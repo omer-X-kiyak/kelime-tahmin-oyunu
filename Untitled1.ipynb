{
  "nbformat": 4,
  "nbformat_minor": 0,
  "metadata": {
    "colab": {
      "provenance": []
    },
    "kernelspec": {
      "name": "python3",
      "display_name": "Python 3"
    },
    "language_info": {
      "name": "python"
    }
  },
  "cells": [
    {
      "cell_type": "code",
      "execution_count": null,
      "metadata": {
        "colab": {
          "base_uri": "https://localhost:8080/"
        },
        "id": "606uuWcW4464",
        "outputId": "c4a11393-b9aa-4cee-a38e-e637a13fab6f"
      },
      "outputs": [
        {
          "output_type": "stream",
          "name": "stdout",
          "text": [
            "Zorluk seviyesini seçin (basit/orta/zor) / (Sebzeler/Et ürünleri/İçecekler/Atıştırmalıklar/Tahıllar/Baharatlar): Baharatlar\n",
            "Bir harf tahmin edin: A\n",
            "Bu harf kelimenin içinde değil. 5 canınız kaldı.\n",
            "------\n",
            "Bir harf tahmin edin: a\n",
            "Tebrikler! Bu harf kelimenin içinde.\n",
            "-a--a-\n",
            "Bir harf tahmin edin: k\n",
            "Bu harf kelimenin içinde değil. 4 canınız kaldı.\n",
            "-a--a-\n",
            "Bir harf tahmin edin: n\n",
            "Bu harf kelimenin içinde değil. 3 canınız kaldı.\n",
            "-a--a-\n",
            "Bir harf tahmin edin: h\n",
            "Tebrikler! Bu harf kelimenin içinde.\n",
            "ha--a-\n",
            "Bir harf tahmin edin: r\n",
            "Tebrikler! Bu harf kelimenin içinde.\n",
            "har-a-\n",
            "Bir harf tahmin edin: d\n",
            "Tebrikler! Bu harf kelimenin içinde.\n",
            "harda-\n",
            "Bir harf tahmin edin: a\n",
            "Bu harfi zaten tahmin ettiniz.\n",
            "harda-\n",
            "Bir harf tahmin edin: l\n",
            "Tebrikler! Bu harf kelimenin içinde.\n",
            "hardal\n",
            "Tebrikler! Kelimeyi doğru tahmin ettiniz.\n"
          ]
        }
      ],
      "source": [
        "import random\n",
        "\n",
        "kelime_listesi = {\n",
        "    'basit': ['elma', 'armut', 'portakal', 'karpuz', 'muz','Salatalık', 'domates', 'marul', 'lahana', 'sarımsak','Kalem', 'kitap', 'çanta', 'anahtar', 'gözlük'],\n",
        "    'orta': ['çilek', 'kayısı', 'havuç', 'patates', 'kırmızıbiber','Mantar', 'kuşkonmaz', 'kereviz', 'enginar', 'kıvırcık', 'lahana','Diş fırçası','tencere', 'çatal, telefon', 'saat'],\n",
        "    'zor': ['akordeon', 'kullanılabilirlik', 'xenotransplantasyon', 'mononükleoz', 'mezoterapi','Elektromanyetizma', 'neurofibromatozis', 'kristalografi', 'katyonik deterjan','akciğer fibrillojenizisi','Bitkisel dokularda glikoliz', 'elektroforez', 'biyosferik bölgeler', 'kuantum mekaniği', 'antropolojik arkeoloji'],\n",
        "    'Sebzeler': ['Patlıcan', 'kabak', 'bamya', 'pırasa', 'ıspanak'],\n",
        "    'Et ürünleri': ['Tavuk', 'kırmızı et', 'somon', 'ton balığı', 'sardalya'],\n",
        "    'İçecekler': ['Çay', 'kahve', 'su', 'meyve suyu', 'bira'],\n",
        "    'Atıştırmalıklar': ['Cips', 'çikolata, bisküvi', 'kraker', 'fındık'],\n",
        "    'Tahıllar': ['Pirinç', 'bulgur', 'makarna', 'yulaf', 'mısır'],\n",
        "    'Baharatlar': ['Tarçın', 'kişniş', 'nane', 'biber', 'hardal'],\n",
        "}\n",
        "while True:\n",
        "    def kelime_sec(zorluk):\n",
        "        kelime = random.choice(kelime_listesi[zorluk])\n",
        "        return kelime\n",
        "\n",
        "    def tahmin_et(kelime):\n",
        "        tahminler = []\n",
        "        can = 6\n",
        "        while can > 0:\n",
        "            harf = input(\"Bir harf tahmin edin: \")\n",
        "            if harf in tahminler:\n",
        "                print(\"Bu harfi zaten tahmin ettiniz.\")\n",
        "            elif harf in kelime:\n",
        "                print(\"Tebrikler! Bu harf kelimenin içinde.\")\n",
        "                tahminler.append(harf)\n",
        "            else:\n",
        "                can -= 1\n",
        "                print(\"Bu harf kelimenin içinde değil. {} canınız kaldı.\".format(can))\n",
        "            kelime_gosterimi = \"\"\n",
        "            for karakter in kelime:\n",
        "                if karakter in tahminler:\n",
        "                    kelime_gosterimi += karakter\n",
        "                else:\n",
        "                    kelime_gosterimi += \"-\"\n",
        "            print(kelime_gosterimi)\n",
        "            if kelime_gosterimi == kelime:\n",
        "                print(\"Tebrikler! Kelimeyi doğru tahmin ettiniz.\")\n",
        "                break\n",
        "        if can == 0:\n",
        "            print(\"Üzgünüm, kelimeyi tahmin edemediniz. Kelime '{}' idi.\".format(kelime))\n",
        "\n",
        "    zorluk = input(\"Zorluk seviyesini seçin (basit/orta/zor) / (Sebzeler/Et ürünleri/İçecekler/Atıştırmalıklar/Tahıllar/Baharatlar): \")\n",
        "    kelime = kelime_sec(zorluk)\n",
        "    tahmin_et(kelime)\n",
        "    devam = input(\"Tekrar oynamak istiyor musunuz? (E/H): \")\n",
        "    if devam.lower() != 'e':\n",
        "        break"
      ]
    }
  ]
}